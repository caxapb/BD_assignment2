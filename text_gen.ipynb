{
 "cells": [
  {
   "cell_type": "code",
   "execution_count": 2,
   "id": "b88f80df",
   "metadata": {},
   "outputs": [
    {
     "data": {
      "text/html": [
       "<div>\n",
       "<style scoped>\n",
       "    .dataframe tbody tr th:only-of-type {\n",
       "        vertical-align: middle;\n",
       "    }\n",
       "\n",
       "    .dataframe tbody tr th {\n",
       "        vertical-align: top;\n",
       "    }\n",
       "\n",
       "    .dataframe thead th {\n",
       "        text-align: right;\n",
       "    }\n",
       "</style>\n",
       "<table border=\"1\" class=\"dataframe\">\n",
       "  <thead>\n",
       "    <tr style=\"text-align: right;\">\n",
       "      <th></th>\n",
       "      <th>id</th>\n",
       "      <th>title</th>\n",
       "      <th>text</th>\n",
       "    </tr>\n",
       "  </thead>\n",
       "  <tbody>\n",
       "    <tr>\n",
       "      <th>0</th>\n",
       "      <td>1</td>\n",
       "      <td>Doc1</td>\n",
       "      <td>She played with a red ball sun.</td>\n",
       "    </tr>\n",
       "    <tr>\n",
       "      <th>1</th>\n",
       "      <td>2</td>\n",
       "      <td>Doc2</td>\n",
       "      <td>A dog chased the cat.</td>\n",
       "    </tr>\n",
       "    <tr>\n",
       "      <th>2</th>\n",
       "      <td>3</td>\n",
       "      <td>Doc3</td>\n",
       "      <td>The sun rises in the east.</td>\n",
       "    </tr>\n",
       "    <tr>\n",
       "      <th>3</th>\n",
       "      <td>4</td>\n",
       "      <td>Doc4</td>\n",
       "      <td>A dog chased the cat.</td>\n",
       "    </tr>\n",
       "    <tr>\n",
       "      <th>4</th>\n",
       "      <td>5</td>\n",
       "      <td>Doc5</td>\n",
       "      <td>She played with a red ball sun.</td>\n",
       "    </tr>\n",
       "  </tbody>\n",
       "</table>\n",
       "</div>"
      ],
      "text/plain": [
       "   id title                             text\n",
       "0   1  Doc1  She played with a red ball sun.\n",
       "1   2  Doc2            A dog chased the cat.\n",
       "2   3  Doc3       The sun rises in the east.\n",
       "3   4  Doc4            A dog chased the cat.\n",
       "4   5  Doc5  She played with a red ball sun."
      ]
     },
     "execution_count": 2,
     "metadata": {},
     "output_type": "execute_result"
    }
   ],
   "source": [
    "import pandas as pd\n",
    "import pyarrow as pa\n",
    "import pyarrow.parquet as pq\n",
    "import random\n",
    "\n",
    "# Predefined list of meaningful sentences\n",
    "sentences = [\n",
    "    \"The cat sat on the mat.\",\n",
    "    \"A dog chased the cat.\",\n",
    "    \"The sun rises in the east.\",\n",
    "    \"She read a book near the cat.\",\n",
    "    \"She played with a red ball sun.\",\n",
    "]\n",
    "\n",
    "# Function to generate text for each document\n",
    "def generate_text(sentence_list, num_sentences=1):\n",
    "    \"\"\"Generate text by randomly selecting sentences.\"\"\"\n",
    "    return \" \".join(random.choices(sentence_list, k=num_sentences))\n",
    "\n",
    "# Generate sample data\n",
    "num_documents = 5  # Number of documents\n",
    "data = {\n",
    "    \"id\": list(range(1, num_documents + 1)),  # Unique IDs for each document\n",
    "    \"title\": [f\"Doc{i}\" for i in range(1, num_documents + 1)],  # Titles\n",
    "    \"text\": [generate_text(sentences) for _ in range(num_documents)]  # Texts\n",
    "}\n",
    "\n",
    "# Create a DataFrame\n",
    "df = pd.DataFrame(data)\n",
    "df\n"
   ]
  },
  {
   "cell_type": "code",
   "execution_count": 3,
   "id": "067bb1b1",
   "metadata": {},
   "outputs": [
    {
     "name": "stdout",
     "output_type": "stream",
     "text": [
      "test.parquet file has been generated successfully.\n"
     ]
    }
   ],
   "source": [
    "# Ensure text length is less than 7 words (truncate if necessary)\n",
    "df['text'] = df['text'].apply(lambda x: \" \".join(x.split()[:6]))\n",
    "\n",
    "# Convert DataFrame to PyArrow Table\n",
    "table = pa.Table.from_pandas(df)\n",
    "\n",
    "# Write the table to a Parquet file\n",
    "pq.write_table(table, \"test.parquet\")\n",
    "\n",
    "print(\"test.parquet file has been generated successfully.\")"
   ]
  }
 ],
 "metadata": {
  "kernelspec": {
   "display_name": "venv",
   "language": "python",
   "name": "python3"
  },
  "language_info": {
   "codemirror_mode": {
    "name": "ipython",
    "version": 3
   },
   "file_extension": ".py",
   "mimetype": "text/x-python",
   "name": "python",
   "nbconvert_exporter": "python",
   "pygments_lexer": "ipython3",
   "version": "3.11.9"
  }
 },
 "nbformat": 4,
 "nbformat_minor": 5
}
